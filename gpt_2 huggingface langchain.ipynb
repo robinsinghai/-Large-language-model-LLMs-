{
 "cells": [
  {
   "cell_type": "code",
   "execution_count": 1,
   "metadata": {},
   "outputs": [
    {
     "data": {
      "text/plain": [
       "True"
      ]
     },
     "execution_count": 1,
     "metadata": {},
     "output_type": "execute_result"
    }
   ],
   "source": [
    "from dotenv import load_dotenv\n",
    "load_dotenv()"
   ]
  },
  {
   "cell_type": "code",
   "execution_count": 2,
   "metadata": {},
   "outputs": [],
   "source": [
    "from langchain import HuggingFaceHub, LLMChain\n",
    "from langchain.prompts import PromptTemplate"
   ]
  },
  {
   "cell_type": "code",
   "execution_count": 11,
   "metadata": {},
   "outputs": [],
   "source": [
    "hub_llm = HuggingFaceHub(\n",
    "    repo_id=\"gpt2\",\n",
    "    model_kwargs={'temperature': 0.8, 'max_length':150})"
   ]
  },
  {
   "cell_type": "code",
   "execution_count": 12,
   "metadata": {},
   "outputs": [],
   "source": [
    "prompt = PromptTemplate(\n",
    "    input_variables=['profession'],\n",
    "    template=\"You have one job! You're the {question} and you don't have to sarcastic\"\n",
    ")"
   ]
  },
  {
   "cell_type": "code",
   "execution_count": 13,
   "metadata": {},
   "outputs": [],
   "source": [
    "hub_chain = LLMChain(prompt=prompt, llm=hub_llm, verbose=True)"
   ]
  },
  {
   "cell_type": "code",
   "execution_count": 14,
   "metadata": {},
   "outputs": [
    {
     "name": "stdout",
     "output_type": "stream",
     "text": [
      "\n",
      "\n",
      "\u001b[1m> Entering new LLMChain chain...\u001b[0m\n",
      "Prompt after formatting:\n",
      "\u001b[32;1m\u001b[1;3mYou have one job! You're the Teacher and you don't have to sarcastic\u001b[0m\n",
      "\n",
      "\u001b[1m> Finished chain.\u001b[0m\n",
      "You have one job! You're the Teacher and you don't have to sarcasticize it, but it's not that hard to do.\n",
      "\n",
      "And they're doing it.\n",
      "\n",
      "And the teacher doesn't have to take an action to avoid.\n",
      "\n",
      "And the teacher does not have to take an action to make an action better.\n",
      "\n",
      "In this way, being nice is really a form of being nice.\n",
      "\n",
      "Being nice is the kind of person who respects other people's opinions and actions, not just their words.\n",
      "\n",
      "Be nice to others. Be nice to yourself. Be nice to others.\n",
      "\n",
      "Be nice to yourself.\n",
      "\n",
      "Be nice to others.\n",
      "\n",
      "Be nice to myself. Be nice to others\n"
     ]
    }
   ],
   "source": [
    "print(hub_chain.run('Teacher'))"
   ]
  },
  {
   "cell_type": "code",
   "execution_count": 15,
   "metadata": {},
   "outputs": [
    {
     "name": "stdout",
     "output_type": "stream",
     "text": [
      "\n",
      "\n",
      "\u001b[1m> Entering new LLMChain chain...\u001b[0m\n",
      "Prompt after formatting:\n",
      "\u001b[32;1m\u001b[1;3mYou have one job! You're the customer service agent and you don't have to sarcastic\u001b[0m\n",
      "\n",
      "\u001b[1m> Finished chain.\u001b[0m\n",
      "You have one job! You're the customer service agent and you don't have to sarcasticly call me \"your customer\" in order to get my attention. You have one job! And if you want to work for me, that's great. But if you don't have one job, your entire career is a total waste.\n",
      "\n",
      "There is a lot of stuff in this story I have written about. I've talked about the long term effects of automation on my life. If I look at it today, I can't believe I'm thinking about automation right now. This is not just the future of our industry.\n",
      "\n",
      "I have one job…and I'm doing it right now. I'm working on something that will allow me\n"
     ]
    }
   ],
   "source": [
    "print(hub_chain.run('customer service agent'))"
   ]
  },
  {
   "cell_type": "code",
   "execution_count": 16,
   "metadata": {},
   "outputs": [
    {
     "name": "stdout",
     "output_type": "stream",
     "text": [
      "\n",
      "\n",
      "\u001b[1m> Entering new LLMChain chain...\u001b[0m\n",
      "Prompt after formatting:\n",
      "\u001b[32;1m\u001b[1;3mYou have one job! You're the Politican and you don't have to sarcastic\u001b[0m\n",
      "\n",
      "\u001b[1m> Finished chain.\u001b[0m\n",
      "You have one job! You're the Politican and you don't have to sarcastic, but you might be the politican when you're the politican when you're the politican because you've read the piece!\n",
      "\n",
      "-Catherine\n",
      "\n",
      "(from the original article)\n",
      "\n",
      "I don't want to be called the cynic. I was just too cute. But that, me, is not your thing.\n",
      "\n",
      "-Diana (from the original article)\n",
      "\n",
      "This. Is. Not. Funny.\n",
      "\n",
      "-Catherine\n",
      "\n",
      "(from The Book of the Seven Monks and The Seven Monks of the Seven Sesquicentennial)\n",
      "\n",
      "I'm not saying you're one of the stupid ones\n"
     ]
    }
   ],
   "source": [
    "print(hub_chain.run('Politican'))"
   ]
  },
  {
   "cell_type": "code",
   "execution_count": 17,
   "metadata": {},
   "outputs": [
    {
     "name": "stdout",
     "output_type": "stream",
     "text": [
      "\n",
      "\n",
      "\u001b[1m> Entering new LLMChain chain...\u001b[0m\n",
      "Prompt after formatting:\n",
      "\u001b[32;1m\u001b[1;3mYou have one job! You're the president and you don't have to sarcastic\u001b[0m\n",
      "\n",
      "\u001b[1m> Finished chain.\u001b[0m\n",
      "You have one job! You're the president and you don't have to sarcastic, you don't have to have a big grin, right? You don't have to be a genius to do it. You can do it.\n",
      "\n",
      "But I just can't stand you. I'm an entrepreneur.\"\n",
      "\n",
      "\"You're not a genius! You're not an entrepreneur because you can't do anything by yourself! You can't even get a job because you can't do anything by yourself!\"\n",
      "\n",
      "\"No, that's not true! I'm a business person. I'm not a businessman, I'm not a entrepreneur. I'm a entrepreneur because I can do anything by myself, right? I think I'm a great entrepreneur!\"\n"
     ]
    }
   ],
   "source": [
    "print(hub_chain.run('president'))"
   ]
  },
  {
   "cell_type": "code",
   "execution_count": null,
   "metadata": {},
   "outputs": [],
   "source": []
  }
 ],
 "metadata": {
  "kernelspec": {
   "display_name": "llms_venv",
   "language": "python",
   "name": "python3"
  },
  "language_info": {
   "codemirror_mode": {
    "name": "ipython",
    "version": 3
   },
   "file_extension": ".py",
   "mimetype": "text/x-python",
   "name": "python",
   "nbconvert_exporter": "python",
   "pygments_lexer": "ipython3",
   "version": "3.11.8"
  }
 },
 "nbformat": 4,
 "nbformat_minor": 2
}
